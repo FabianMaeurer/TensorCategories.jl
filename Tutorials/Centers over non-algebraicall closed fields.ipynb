{
 "cells": [
  {
   "cell_type": "markdown",
   "metadata": {},
   "source": [
    "# Centers over non-algebraically closed fields\n",
    "\n",
    "Whenever the ground field $\\mathbb k$ over which our fusion category is defined is not algebraically closed, then the center is no longer fusion but only weakly fusion. Then interesting things happen.\n",
    "\n",
    "We want to show this phenomenon following the example of the ising_category fusion category. The ising_category fusion category can be defined over the field $\\mathbb k = \\mathbb Q(\\sqrt{2})$."
   ]
  },
  {
   "cell_type": "code",
   "execution_count": 1,
   "metadata": {},
   "outputs": [
    {
     "name": "stdout",
     "output_type": "stream",
     "text": []
    },
    {
     "data": {
      "text/plain": [
       "ising_category fusion category"
      ]
     },
     "metadata": {},
     "output_type": "display_data"
    }
   ],
   "source": [
    "using TensorCategories, Oscar\n",
    "\n",
    "Qx,x = QQ[:x]\n",
    "k,_ = number_field(x^2-2, \"√2\")\n",
    "\n",
    "I = ising_category(k)"
   ]
  },
  {
   "cell_type": "markdown",
   "metadata": {},
   "source": [
    "Now we compute the center by computing the simple objects using our algorithm."
   ]
  },
  {
   "cell_type": "code",
   "execution_count": 3,
   "metadata": {},
   "outputs": [
    {
     "data": {
      "text/plain": [
       "5-element Vector{CenterObject}:\n",
       " Central object: 𝟙 ⊕ χ\n",
       " Central object: 𝟙\n",
       " Central object: 𝟙\n",
       " Central object: 2⋅χ\n",
       " Central object: 4⋅X"
      ]
     },
     "metadata": {},
     "output_type": "display_data"
    }
   ],
   "source": [
    "𝒵 = center(I)\n",
    "\n",
    "simples(𝒵)"
   ]
  },
  {
   "cell_type": "markdown",
   "metadata": {},
   "source": [
    "If we examine the endomorphism spaces of the simple objects we can see that they are no longer split."
   ]
  },
  {
   "cell_type": "code",
   "execution_count": 4,
   "metadata": {},
   "outputs": [
    {
     "data": {
      "text/plain": [
       "5-element Vector{Int64}:\n",
       " 1\n",
       " 1\n",
       " 1\n",
       " 2\n",
       " 4"
      ]
     },
     "metadata": {},
     "output_type": "display_data"
    }
   ],
   "source": [
    "dim.(End.(simples(𝒵)))"
   ]
  },
  {
   "cell_type": "markdown",
   "metadata": {},
   "source": [
    "Let's take a closer look at the endomorphism ring of the fourth simple object. We can see that the endomorphism ring is actually isomorphic to $\\mathbb Q(\\sqrt 2, i)$ as $\\mathbb Q(\\sqrt 2)$-algebras. "
   ]
  },
  {
   "cell_type": "code",
   "execution_count": 5,
   "metadata": {},
   "outputs": [
    {
     "data": {
      "text/plain": [
       "2×2 Matrix{String}:\n",
       " \"X1\"  \"X2\"\n",
       " \"X2\"  \"-1⋅X1\""
      ]
     },
     "metadata": {},
     "output_type": "display_data"
    }
   ],
   "source": [
    "X = 𝒵[4]\n",
    "\n",
    "R = endomorphism_ring(X)\n",
    "\n",
    "print_multiplication_table(multiplication_table(R))\n"
   ]
  },
  {
   "cell_type": "markdown",
   "metadata": {},
   "source": [
    "The basis `X1, X2` corresponds to the field elements $i$ and $1$. We can now extend the scalars to examine the further behavior if we split `X`. Note that it is important to extend the scalars of `I` and not just create a new instance with ``ising_category(K)``. This ensures, that the structures like associators and spherical structure are indeed the same, since otherwise different types of fields might behave differently."
   ]
  },
  {
   "cell_type": "code",
   "execution_count": 7,
   "metadata": {},
   "outputs": [
    {
     "data": {
      "text/plain": [
       "7-element Vector{CenterObject}:\n",
       " Central object: 𝟙\n",
       " Central object: 𝟙\n",
       " Central object: 𝟙 ⊕ χ\n",
       " Central object: χ\n",
       " Central object: χ\n",
       " Central object: 2⋅X\n",
       " Central object: 2⋅X"
      ]
     },
     "metadata": {},
     "output_type": "display_data"
    }
   ],
   "source": [
    "f,g = basis(End(X))\n",
    "\n",
    "K,_ = number_field(minpoly(g), \"i\")\n",
    "\n",
    "I2 = I ⊗ K \n",
    "\n",
    "𝒵2 = center(I2)\n",
    "\n",
    "simples(𝒵2)"
   ]
  },
  {
   "cell_type": "markdown",
   "metadata": {},
   "source": [
    "We can repeat the process and split the sixth simple object."
   ]
  },
  {
   "cell_type": "code",
   "execution_count": 9,
   "metadata": {},
   "outputs": [
    {
     "data": {
      "text/plain": [
       "9-element Vector{CenterObject}:\n",
       " Central object: 𝟙\n",
       " Central object: 𝟙 ⊕ χ\n",
       " Central object: 𝟙\n",
       " Central object: χ\n",
       " Central object: χ\n",
       " Central object: X\n",
       " Central object: X\n",
       " Central object: X\n",
       " Central object: X"
      ]
     },
     "metadata": {},
     "output_type": "display_data"
    }
   ],
   "source": [
    "X = 𝒵2[6]\n",
    "\n",
    "f,g = basis(End(X))\n",
    "\n",
    "K2,a = number_field((minpoly(g)), \"a\")\n",
    "\n",
    "I3 = I ⊗ K2\n",
    "\n",
    "𝒵3 = center(I3)\n",
    "\n",
    "simples(𝒵3)"
   ]
  },
  {
   "cell_type": "markdown",
   "metadata": {},
   "source": [
    "So we were finally able to split all simples. Now we can for example compare the $S$-matrices:\n"
   ]
  },
  {
   "cell_type": "code",
   "execution_count": 31,
   "metadata": {},
   "outputs": [
    {
     "name": "stdout",
     "output_type": "stream",
     "text": [
      "[ 0      2       2   -4       0]\n",
      "[ 2      1       1    2    4*√2]\n",
      "[ 2      1       1    2   -4*√2]\n",
      "[-4      2       2    4       0]\n",
      "[ 0   4*√2   -4*√2    0       0]"
     ]
    }
   ],
   "source": [
    "S1 = smatrix(𝒵)\n",
    "S2 = smatrix(𝒵2)\n",
    "S3 = smatrix(𝒵3)\n",
    "\n",
    "show(stdout, \"text/plain\", S1)\n"
   ]
  },
  {
   "cell_type": "code",
   "execution_count": 32,
   "metadata": {},
   "outputs": [
    {
     "name": "stdout",
     "output_type": "stream",
     "text": [
      "[ 0       2      2      -2      -2       0       0]\n",
      "[ 2       1      1       1       1   -2*√2   -2*√2]\n",
      "[ 2       1      1       1       1    2*√2    2*√2]\n",
      "[-2       1      1       1       1    2*√2   -2*√2]\n",
      "[-2       1      1       1       1   -2*√2    2*√2]\n",
      "[ 0   -2*√2   2*√2    2*√2   -2*√2       0       0]\n",
      "[ 0   -2*√2   2*√2   -2*√2    2*√2       0       0]"
     ]
    }
   ],
   "source": [
    "show(stdout, \"text/plain\", S2)"
   ]
  },
  {
   "cell_type": "code",
   "execution_count": 33,
   "metadata": {},
   "outputs": [
    {
     "name": "stdout",
     "output_type": "stream",
     "text": [
      "[ 1     1    2     1     1    √2    √2    √2    √2]\n",
      "[ 1     1    2     1     1   -√2   -√2   -√2   -√2]\n",
      "[ 2     2    0    -2    -2     0     0     0     0]\n",
      "[ 1     1   -2     1     1    √2   -√2    √2   -√2]\n",
      "[ 1     1   -2     1     1   -√2    √2   -√2    √2]\n",
      "[√2   -√2    0    √2   -√2     0     2     0    -2]\n",
      "[√2   -√2    0   -√2    √2     2     0    -2     0]\n",
      "[√2   -√2    0    √2   -√2     0    -2     0     2]\n",
      "[√2   -√2    0   -√2    √2    -2     0     2     0]"
     ]
    }
   ],
   "source": [
    "\n",
    "show(stdout, \"text/plain\", S3)"
   ]
  },
  {
   "cell_type": "markdown",
   "metadata": {},
   "source": [
    "Note that `S1` `S2` do not behave like typical $S$-matrices. Many statements proven in the literature do only hold in the split case. So for example they do no longer form modular data:"
   ]
  },
  {
   "cell_type": "code",
   "execution_count": 36,
   "metadata": {},
   "outputs": [
    {
     "name": "stdout",
     "output_type": "stream",
     "text": [
      "[24    -4    -4   -8    0]\n",
      "[-4    42   -22    4    0]\n",
      "[-4   -22    42    4    0]\n",
      "[-8     4     4   40    0]\n",
      "[ 0     0     0    0   64]"
     ]
    }
   ],
   "source": [
    "show(stdout, \"text/plain\", S1*transpose(S1))"
   ]
  },
  {
   "cell_type": "code",
   "execution_count": 37,
   "metadata": {},
   "outputs": [
    {
     "name": "stdout",
     "output_type": "stream",
     "text": [
      "[16    0    0    0    0    0    0]"
     ]
    },
    {
     "name": "stdout",
     "output_type": "stream",
     "text": [
      "\n",
      "[ 0   24   -8    0    0    0    0]\n",
      "[ 0   -8   24    0    0    0    0]\n",
      "[ 0    0    0   24   -8    0    0]\n",
      "[ 0    0    0   -8   24    0    0]\n",
      "[ 0    0    0    0    0   32    0]\n",
      "[ 0    0    0    0    0    0   32]"
     ]
    }
   ],
   "source": [
    "show(stdout, \"text/plain\", S2*transpose(S2))"
   ]
  },
  {
   "cell_type": "code",
   "execution_count": 38,
   "metadata": {},
   "outputs": [
    {
     "name": "stdout",
     "output_type": "stream",
     "text": [
      "[16    0    0    0    0    0    0    0    0]\n",
      "[ 0   16    0    0    0    0    0    0    0]\n",
      "[ 0    0   16    0    0    0    0    0    0]\n",
      "[ 0    0    0   16    0    0    0    0    0]\n",
      "[ 0    0    0    0   16    0    0    0    0]\n",
      "[ 0    0    0    0    0   16    0    0    0]\n",
      "[ 0    0    0    0    0    0   16    0    0]\n",
      "[ 0    0    0    0    0    0    0   16    0]\n",
      "[ 0    0    0    0    0    0    0    0   16]"
     ]
    }
   ],
   "source": [
    "show(stdout, \"text/plain\", S3*transpose(S3))"
   ]
  }
 ],
 "metadata": {
  "kernelspec": {
   "display_name": "Julia 1.10.0",
   "language": "julia",
   "name": "julia-1.10"
  },
  "language_info": {
   "file_extension": ".jl",
   "mimetype": "application/julia",
   "name": "julia",
   "version": "1.10.0"
  }
 },
 "nbformat": 4,
 "nbformat_minor": 2
}
